{
 "cells": [
  {
   "cell_type": "markdown",
   "id": "cb4de129-b5a4-4dfc-8a56-dcf4167809d1",
   "metadata": {},
   "source": [
    "# Confidence Interval for ratio of proportions $\\frac{P_1}{P_2}$: Katz Logarithm"
   ]
  },
  {
   "cell_type": "code",
   "execution_count": 1,
   "id": "30db2021-9f0a-4640-9e75-2b4b34f71ad1",
   "metadata": {},
   "outputs": [],
   "source": [
    "import scipy.stats\n",
    "import math"
   ]
  },
  {
   "cell_type": "markdown",
   "id": "d001f6c1-6565-4cd4-8bab-4fe8c1ada01e",
   "metadata": {},
   "source": [
    "## Definitions\n",
    "\n",
    "$P_1$: True population proportion of obese cats eating the new formula<br>\n",
    "$P_2$: True population proportion of obese cats eating the old formula<br>\n",
    "\n",
    "$n_1$: Sample size of cats eating new formula<br>\n",
    "$n_2$: Sample size of cats eating old formula<br>\n",
    "\n",
    "$\\hat{p}_1$: Sample proportion of obese cats eating new formula<br>\n",
    "$\\hat{q}_1$: Sample proportion of non-obese cats eating new formula<br>\n",
    "\n",
    "$\\hat{p}_2$: Sample proportion of obese cats eating old formula<br>\n",
    "$\\hat{q}_2$: Sample proportion of non-obese cats eating old formula<br>\n",
    "\n",
    "$\\hat{\\phi} = \\frac{P_1}{P_2}$: ratio of population proportions"
   ]
  },
  {
   "cell_type": "code",
   "execution_count": 2,
   "id": "f4307268-179b-4fbe-846b-a3c5907cea9f",
   "metadata": {},
   "outputs": [],
   "source": [
    "# Sample 1\n",
    "n_1 = 500\n",
    "phat_1 = 0.15\n",
    "qhat_1 = 1 - phat_1\n",
    "\n",
    "# Sample 2\n",
    "n_2 = 9500\n",
    "phat_2 = 0.25\n",
    "qhat_2 = 1 - phat_2\n",
    "\n",
    "phihat = phat_1 / phat_2\n",
    "\n",
    "alpha = 0.05\n",
    "z_alpha = scipy.stats.norm.ppf(1-alpha/2)"
   ]
  },
  {
   "cell_type": "markdown",
   "id": "a5717513-4db1-4922-b344-9e3681580e96",
   "metadata": {},
   "source": [
    "## Formula:\n",
    "\n",
    "Upper/Lower Bounds = $\\hat{\\phi} \\cdot e^{\\pm z_{\\alpha/2}\\sqrt{\\frac{\\hat{q}_1}{n_1 * \\hat{p}_1}+\\frac{\\hat{q}_2}{n_2 * \\hat{p}_2}}}$"
   ]
  },
  {
   "cell_type": "code",
   "execution_count": 3,
   "id": "98af8760-be13-45d7-bfad-1c47703afa14",
   "metadata": {},
   "outputs": [],
   "source": [
    "hat_frac_1 = qhat_1 / (n_1 * phat_1)\n",
    "hat_frac_2 = qhat_2 / (n_2 * phat_2)\n",
    "\n",
    "square_root = math.sqrt(hat_frac_1 + hat_frac_2)\n",
    "\n",
    "exponent = z_alpha * square_root\n",
    "\n",
    "ci_lower_bound = phihat * math.exp(-exponent)\n",
    "\n",
    "ci_upper_bound = phihat * math.exp(exponent)"
   ]
  },
  {
   "cell_type": "code",
   "execution_count": 4,
   "id": "848e002f-0852-4c31-b261-12de8daaaee1",
   "metadata": {},
   "outputs": [
    {
     "name": "stdout",
     "output_type": "stream",
     "text": [
      "With 95.0% confidence, the true ratio of proportions is between 48.56% and 74.13%.\n"
     ]
    }
   ],
   "source": [
    "print(F\"With {(1-alpha) * 100}% confidence, the true ratio of proportions is between {ci_lower_bound * 100:.2f}% and {ci_upper_bound * 100:.2f}%.\")"
   ]
  },
  {
   "cell_type": "code",
   "execution_count": null,
   "id": "0a5cc71f-6a42-4977-9212-56fe117d905b",
   "metadata": {},
   "outputs": [],
   "source": []
  }
 ],
 "metadata": {
  "kernelspec": {
   "display_name": "Python 3 (ipykernel)",
   "language": "python",
   "name": "python3"
  },
  "language_info": {
   "codemirror_mode": {
    "name": "ipython",
    "version": 3
   },
   "file_extension": ".py",
   "mimetype": "text/x-python",
   "name": "python",
   "nbconvert_exporter": "python",
   "pygments_lexer": "ipython3",
   "version": "3.9.12"
  }
 },
 "nbformat": 4,
 "nbformat_minor": 5
}
